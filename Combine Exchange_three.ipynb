{
 "cells": [
  {
   "cell_type": "code",
   "execution_count": 13,
   "metadata": {},
   "outputs": [
    {
     "name": "stdout",
     "output_type": "stream",
     "text": [
      "['Exchange_2021-3-27_1.csv', 'Exchange_2021-3-27_2.csv', 'Exchange_2021-3-27_3.csv']\n"
     ]
    }
   ],
   "source": [
    "import os\n",
    "import glob\n",
    "import pandas as pd\n",
    "import datetime\n",
    "x = datetime.datetime.now()\n",
    "hour = x.hour\n",
    "minute = x.minute\n",
    "date_1= x.day\n",
    "month = x.month\n",
    "year = x.year\n",
    "date_time1 = f'{date_1}-{month}-{year}_{hour}-{minute}'\n",
    "# date_time = f'{year}-{month}-{date_1}'\n",
    "date_time = f'{date_1}-{month}-{year}'\n",
    "\n",
    "\n",
    "# os.chdir(\"D:/Desktop/\")\n",
    "# extension = 'csv'\n",
    "# all_filenames = [i for i in glob.glob('*.{}'.format(extension))]\n",
    "# print(all_filenames)\n",
    "\n",
    "\n",
    "check = f'Exchange_{date_time}'\n",
    "all_filenames = []\n",
    "for file in os.listdir():\n",
    "    if check in file:\n",
    "        all_filenames.append(file)\n",
    "#         print(f'file name: {file}')\n",
    "print(all_filenames)       \n",
    "        \n",
    "        \n",
    "        \n",
    "combine = pd.concat([pd.read_csv(f) for f in all_filenames ])\n",
    "combine.to_csv(f\"Exchange_final_{date_time1}.csv\", index=False ,encoding='utf-8')"
   ]
  }
 ],
 "metadata": {
  "kernelspec": {
   "display_name": "Python 3",
   "language": "python",
   "name": "python3"
  },
  "language_info": {
   "codemirror_mode": {
    "name": "ipython",
    "version": 3
   },
   "file_extension": ".py",
   "mimetype": "text/x-python",
   "name": "python",
   "nbconvert_exporter": "python",
   "pygments_lexer": "ipython3",
   "version": "3.7.6"
  }
 },
 "nbformat": 4,
 "nbformat_minor": 4
}
